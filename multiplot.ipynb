{
 "cells": [
  {
   "cell_type": "code",
   "execution_count": null,
   "metadata": {},
   "outputs": [],
   "source": [
    "import matplotlib.pyplot as plt\n",
    "import numpy as np"
   ]
  },
  {
   "cell_type": "code",
   "execution_count": null,
   "metadata": {},
   "outputs": [],
   "source": [
    "lambda_t = 0.01\n",
    "time = np.arange(0, 10, lambda_t)\n",
    "impulse = np.exp(-time[:1000]/0.05)\n",
    "\n",
    "x=np.random.rand(len(time))\n",
    "noise = np.convolve(x, impulse)[:len(x)]*lambda_t\n",
    "\n",
    "fig, ax = plt.subplots()\n",
    "ax.plot(time, noise)\n",
    "ax.set_xlabel('Time')\n",
    "ax.set_ylabel('Current')\n",
    "\n",
    "right_ax = fig.add_axes([.65, .6, .2, .2], facecolor='k')\n",
    "right_ax.hist(noise, 400, density=True)\n",
    "right_ax.set(title='Probability', xticks=[], yticks=[])"
   ]
  }
 ],
 "metadata": {
  "language_info": {
   "name": "python"
  }
 },
 "nbformat": 4,
 "nbformat_minor": 2
}
